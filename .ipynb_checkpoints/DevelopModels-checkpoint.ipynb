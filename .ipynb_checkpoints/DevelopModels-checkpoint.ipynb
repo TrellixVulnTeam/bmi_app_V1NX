{
 "cells": [
  {
   "cell_type": "code",
   "execution_count": 1,
   "metadata": {},
   "outputs": [
    {
     "name": "stderr",
     "output_type": "stream",
     "text": [
      "Using TensorFlow backend.\n"
     ]
    }
   ],
   "source": [
    "import pandas as pd\n",
    "import numpy as np\n",
    "import matplotlib as plt\n",
    "from imblearn.over_sampling import SMOTE\n",
    "from sklearn.model_selection import StratifiedShuffleSplit\n",
    "from sklearn.ensemble import RandomForestClassifier,GradientBoostingClassifier\n",
    "from sklearn.svm import SVC\n",
    "from sklearn.neighbors import KNeighborsClassifier\n",
    "from sklearn.metrics import f1_score,classification_report,confusion_matrix,precision_score"
   ]
  },
  {
   "cell_type": "code",
   "execution_count": 2,
   "metadata": {},
   "outputs": [],
   "source": [
    "ds = pd.read_csv('data/bmi.csv')"
   ]
  },
  {
   "cell_type": "code",
   "execution_count": 3,
   "metadata": {},
   "outputs": [
    {
     "data": {
      "text/plain": [
       "5    0.396\n",
       "4    0.260\n",
       "2    0.138\n",
       "3    0.136\n",
       "1    0.044\n",
       "0    0.026\n",
       "Name: Index, dtype: float64"
      ]
     },
     "execution_count": 3,
     "metadata": {},
     "output_type": "execute_result"
    }
   ],
   "source": [
    "ds.Index.value_counts()/len(ds)"
   ]
  },
  {
   "cell_type": "code",
   "execution_count": 4,
   "metadata": {},
   "outputs": [
    {
     "data": {
      "text/html": [
       "<div>\n",
       "<style scoped>\n",
       "    .dataframe tbody tr th:only-of-type {\n",
       "        vertical-align: middle;\n",
       "    }\n",
       "\n",
       "    .dataframe tbody tr th {\n",
       "        vertical-align: top;\n",
       "    }\n",
       "\n",
       "    .dataframe thead th {\n",
       "        text-align: right;\n",
       "    }\n",
       "</style>\n",
       "<table border=\"1\" class=\"dataframe\">\n",
       "  <thead>\n",
       "    <tr style=\"text-align: right;\">\n",
       "      <th></th>\n",
       "      <th>Gender</th>\n",
       "      <th>Height</th>\n",
       "      <th>Weight</th>\n",
       "      <th>Index</th>\n",
       "    </tr>\n",
       "  </thead>\n",
       "  <tbody>\n",
       "    <tr>\n",
       "      <th>0</th>\n",
       "      <td>Male</td>\n",
       "      <td>174</td>\n",
       "      <td>96</td>\n",
       "      <td>4</td>\n",
       "    </tr>\n",
       "    <tr>\n",
       "      <th>1</th>\n",
       "      <td>Male</td>\n",
       "      <td>189</td>\n",
       "      <td>87</td>\n",
       "      <td>2</td>\n",
       "    </tr>\n",
       "    <tr>\n",
       "      <th>2</th>\n",
       "      <td>Female</td>\n",
       "      <td>185</td>\n",
       "      <td>110</td>\n",
       "      <td>4</td>\n",
       "    </tr>\n",
       "    <tr>\n",
       "      <th>3</th>\n",
       "      <td>Female</td>\n",
       "      <td>195</td>\n",
       "      <td>104</td>\n",
       "      <td>3</td>\n",
       "    </tr>\n",
       "    <tr>\n",
       "      <th>4</th>\n",
       "      <td>Male</td>\n",
       "      <td>149</td>\n",
       "      <td>61</td>\n",
       "      <td>3</td>\n",
       "    </tr>\n",
       "  </tbody>\n",
       "</table>\n",
       "</div>"
      ],
      "text/plain": [
       "   Gender  Height  Weight  Index\n",
       "0    Male     174      96      4\n",
       "1    Male     189      87      2\n",
       "2  Female     185     110      4\n",
       "3  Female     195     104      3\n",
       "4    Male     149      61      3"
      ]
     },
     "execution_count": 4,
     "metadata": {},
     "output_type": "execute_result"
    }
   ],
   "source": [
    "ds.head()"
   ]
  },
  {
   "cell_type": "markdown",
   "metadata": {},
   "source": [
    "#### Train test split, resampling"
   ]
  },
  {
   "cell_type": "code",
   "execution_count": 5,
   "metadata": {},
   "outputs": [],
   "source": [
    "def train_test_resampled(X,y):\n",
    "    sss = StratifiedShuffleSplit(n_splits=2, test_size=0.2, random_state=42)\n",
    "    for train_idx, test_idx in sss.split(X,y):\n",
    "        X_train = X.loc[train_idx]\n",
    "        y_train = y.loc[train_idx]\n",
    "        X_test = X.loc[test_idx]\n",
    "        y_test = y.loc[test_idx]\n",
    "    \n",
    "    # resampling\n",
    "    sm = SMOTE(random_state=42)\n",
    "    X_res, y_res = sm.fit_resample(X_train, y_train)\n",
    "    \n",
    "    return X_res,y_res,X_test,y_test"
   ]
  },
  {
   "cell_type": "code",
   "execution_count": 6,
   "metadata": {},
   "outputs": [],
   "source": [
    "X,y = pd.get_dummies(ds.drop('Index',axis=1)),ds.Index\n",
    "\n",
    "X_train,y_train,X_test,y_test = train_test_resampled(X,y)"
   ]
  },
  {
   "cell_type": "markdown",
   "metadata": {},
   "source": [
    "#### Fit the models"
   ]
  },
  {
   "cell_type": "code",
   "execution_count": 7,
   "metadata": {},
   "outputs": [],
   "source": [
    "def train_models(X_train,y_train):\n",
    "\n",
    "    # svc\n",
    "    svc = SVC(C=1.0,\n",
    "            kernel='rbf',\n",
    "            degree=3,\n",
    "            gamma='scale',\n",
    "            random_state=42)\n",
    "\n",
    "    svc.fit(X_train,y_train)\n",
    "\n",
    "    # knn\n",
    "    knn = KNeighborsClassifier(n_neighbors=5,\n",
    "                                weights='uniform',\n",
    "                                algorithm='auto')\n",
    "    knn.fit(X_train,y_train)\n",
    "\n",
    "    # random forest\n",
    "    rf = RandomForestClassifier(n_estimators=100,\n",
    "                                criterion='gini',\n",
    "                                max_depth=None,\n",
    "                                max_features=None)\n",
    "    rf.fit(X_train,y_train)\n",
    "\n",
    "    # gradient boosting\n",
    "    gb = GradientBoostingClassifier(loss='deviance',\n",
    "                                    learning_rate=0.1,\n",
    "                                    n_estimators=100,\n",
    "                                    subsample=1.0,\n",
    "                                    min_samples_split=2,\n",
    "                                    min_samples_leaf=1,\n",
    "                                    max_depth=3,\n",
    "                                    random_state=42,\n",
    "                                    max_features=None)\n",
    "    gb.fit(X_train,y_train)\n",
    "    print('trained')\n",
    "    \n",
    "    models = {'svc':svc,\n",
    "          'knn':knn,\n",
    "          'rf':rf,\n",
    "          'gb':gb}\n",
    "    \n",
    "    return models"
   ]
  },
  {
   "cell_type": "code",
   "execution_count": 8,
   "metadata": {},
   "outputs": [
    {
     "name": "stdout",
     "output_type": "stream",
     "text": [
      "trained\n"
     ]
    }
   ],
   "source": [
    "models = train_models(X_train,y_train)"
   ]
  },
  {
   "cell_type": "markdown",
   "metadata": {},
   "source": [
    "Evaluation"
   ]
  },
  {
   "cell_type": "code",
   "execution_count": 9,
   "metadata": {},
   "outputs": [
    {
     "name": "stdout",
     "output_type": "stream",
     "text": [
      "results for model: svc\n",
      "f1: 0.7981043485649948\n",
      "Precision: 0.8268969696969697\n",
      "              precision    recall  f1-score   support\n",
      "\n",
      "           0       1.00      1.00      1.00         3\n",
      "           1       0.67      1.00      0.80         4\n",
      "           2       0.83      0.71      0.77        14\n",
      "           3       0.55      0.86      0.67        14\n",
      "           4       0.72      0.69      0.71        26\n",
      "           5       1.00      0.82      0.90        39\n",
      "\n",
      "    accuracy                           0.79       100\n",
      "   macro avg       0.79      0.85      0.81       100\n",
      "weighted avg       0.83      0.79      0.80       100\n",
      "\n",
      "##########\n",
      "results for model: knn\n",
      "f1: 0.85162336822034\n",
      "Precision: 0.8629864010120178\n",
      "              precision    recall  f1-score   support\n",
      "\n",
      "           0       0.75      1.00      0.86         3\n",
      "           1       0.60      0.75      0.67         4\n",
      "           2       0.83      0.71      0.77        14\n",
      "           3       0.86      0.86      0.86        14\n",
      "           4       0.77      0.92      0.84        26\n",
      "           5       0.97      0.85      0.90        39\n",
      "\n",
      "    accuracy                           0.85       100\n",
      "   macro avg       0.80      0.85      0.82       100\n",
      "weighted avg       0.86      0.85      0.85       100\n",
      "\n",
      "##########\n",
      "results for model: rf\n",
      "f1: 0.802651724137931\n",
      "Precision: 0.8176666666666667\n",
      "              precision    recall  f1-score   support\n",
      "\n",
      "           0       0.60      1.00      0.75         3\n",
      "           1       0.75      0.75      0.75         4\n",
      "           2       0.90      0.64      0.75        14\n",
      "           3       0.67      0.71      0.69        14\n",
      "           4       0.70      0.81      0.75        26\n",
      "           5       0.94      0.87      0.91        39\n",
      "\n",
      "    accuracy                           0.80       100\n",
      "   macro avg       0.76      0.80      0.77       100\n",
      "weighted avg       0.82      0.80      0.80       100\n",
      "\n",
      "##########\n",
      "results for model: gb\n",
      "f1: 0.8052156969628058\n",
      "Precision: 0.8191492374727669\n",
      "              precision    recall  f1-score   support\n",
      "\n",
      "           0       0.60      1.00      0.75         3\n",
      "           1       1.00      0.75      0.86         4\n",
      "           2       0.83      0.71      0.77        14\n",
      "           3       0.59      0.71      0.65        14\n",
      "           4       0.70      0.73      0.72        26\n",
      "           5       0.97      0.90      0.93        39\n",
      "\n",
      "    accuracy                           0.80       100\n",
      "   macro avg       0.78      0.80      0.78       100\n",
      "weighted avg       0.82      0.80      0.81       100\n",
      "\n",
      "##########\n"
     ]
    }
   ],
   "source": [
    "for k,v in models.items():\n",
    "    f1 = f1_score(y_pred=v.predict(X_test),y_true=y_test,average='weighted')\n",
    "    prec = precision_score(y_pred=v.predict(X_test),y_true=y_test,average='weighted')\n",
    "    print(f'results for model: {k}\\nf1: {f1}\\nPrecision: {prec}')\n",
    "    print(classification_report(y_pred=v.predict(X_test),y_true=y_test))\n",
    "    print('#'*10)"
   ]
  },
  {
   "cell_type": "markdown",
   "metadata": {},
   "source": [
    "#### Add feautures"
   ]
  },
  {
   "cell_type": "code",
   "execution_count": 10,
   "metadata": {},
   "outputs": [],
   "source": [
    "from sklearn.preprocessing import PolynomialFeatures"
   ]
  },
  {
   "cell_type": "code",
   "execution_count": 11,
   "metadata": {},
   "outputs": [],
   "source": [
    "poly = PolynomialFeatures(2,include_bias=False)"
   ]
  },
  {
   "cell_type": "code",
   "execution_count": 12,
   "metadata": {},
   "outputs": [],
   "source": [
    "X_enriched = pd.concat((pd.DataFrame(poly.fit_transform(X[['Height','Weight']]),columns=['Height','Weight','Height_2','Weight_2','interaction']),X[['Gender_Female','Gender_Male']]),axis=1)"
   ]
  },
  {
   "cell_type": "code",
   "execution_count": 13,
   "metadata": {},
   "outputs": [],
   "source": [
    "X_train_1,y_train_1,X_test_1,y_test_1 = train_test_resampled(X_enriched,y)"
   ]
  },
  {
   "cell_type": "code",
   "execution_count": 14,
   "metadata": {},
   "outputs": [
    {
     "name": "stdout",
     "output_type": "stream",
     "text": [
      "trained\n"
     ]
    }
   ],
   "source": [
    "models_1 = train_models(X_train_1,y_train_1)"
   ]
  },
  {
   "cell_type": "code",
   "execution_count": 15,
   "metadata": {},
   "outputs": [
    {
     "name": "stdout",
     "output_type": "stream",
     "text": [
      "results for model: svc\n",
      "f1: 0.8061135997657738\n",
      "Precision: 0.8328596025873702\n",
      "              precision    recall  f1-score   support\n",
      "\n",
      "           0       1.00      1.00      1.00         3\n",
      "           1       0.67      1.00      0.80         4\n",
      "           2       0.85      0.79      0.81        14\n",
      "           3       0.63      0.86      0.73        14\n",
      "           4       0.69      0.77      0.73        26\n",
      "           5       1.00      0.77      0.87        39\n",
      "\n",
      "    accuracy                           0.80       100\n",
      "   macro avg       0.81      0.86      0.82       100\n",
      "weighted avg       0.83      0.80      0.81       100\n",
      "\n",
      "##########\n",
      "results for model: knn\n",
      "f1: 0.8709823509823511\n",
      "Precision: 0.8775057471264367\n",
      "              precision    recall  f1-score   support\n",
      "\n",
      "           0       0.75      1.00      0.86         3\n",
      "           1       0.60      0.75      0.67         4\n",
      "           2       0.83      0.71      0.77        14\n",
      "           3       0.86      0.86      0.86        14\n",
      "           4       0.83      0.92      0.87        26\n",
      "           5       0.97      0.90      0.93        39\n",
      "\n",
      "    accuracy                           0.87       100\n",
      "   macro avg       0.81      0.86      0.83       100\n",
      "weighted avg       0.88      0.87      0.87       100\n",
      "\n",
      "##########\n",
      "results for model: rf\n",
      "f1: 0.7831206844017344\n",
      "Precision: 0.8032933723196882\n",
      "              precision    recall  f1-score   support\n",
      "\n",
      "           0       0.75      1.00      0.86         3\n",
      "           1       0.60      0.75      0.67         4\n",
      "           2       0.89      0.57      0.70        14\n",
      "           3       0.58      0.79      0.67        14\n",
      "           4       0.70      0.73      0.72        26\n",
      "           5       0.94      0.87      0.91        39\n",
      "\n",
      "    accuracy                           0.78       100\n",
      "   macro avg       0.74      0.78      0.75       100\n",
      "weighted avg       0.80      0.78      0.78       100\n",
      "\n",
      "##########\n",
      "results for model: gb\n",
      "f1: 0.7834809523809523\n",
      "Precision: 0.7952626262626262\n",
      "              precision    recall  f1-score   support\n",
      "\n",
      "           0       0.75      1.00      0.86         3\n",
      "           1       0.60      0.75      0.67         4\n",
      "           2       0.73      0.57      0.64        14\n",
      "           3       0.56      0.71      0.63        14\n",
      "           4       0.73      0.73      0.73        26\n",
      "           5       0.97      0.90      0.93        39\n",
      "\n",
      "    accuracy                           0.78       100\n",
      "   macro avg       0.72      0.78      0.74       100\n",
      "weighted avg       0.80      0.78      0.78       100\n",
      "\n",
      "##########\n"
     ]
    }
   ],
   "source": [
    "for k,v in models_1.items():\n",
    "    f1 = f1_score(y_pred=v.predict(X_test_1),y_true=y_test_1,average='weighted')\n",
    "    prec = precision_score(y_pred=v.predict(X_test_1),y_true=y_test_1,average='weighted')\n",
    "    print(f'results for model: {k}\\nf1: {f1}\\nPrecision: {prec}')\n",
    "    print(classification_report(y_pred=v.predict(X_test_1),y_true=y_test_1))\n",
    "    print('#'*10)"
   ]
  },
  {
   "cell_type": "code",
   "execution_count": null,
   "metadata": {},
   "outputs": [],
   "source": []
  },
  {
   "cell_type": "code",
   "execution_count": null,
   "metadata": {},
   "outputs": [],
   "source": []
  },
  {
   "cell_type": "code",
   "execution_count": null,
   "metadata": {},
   "outputs": [],
   "source": []
  },
  {
   "cell_type": "code",
   "execution_count": null,
   "metadata": {},
   "outputs": [],
   "source": []
  }
 ],
 "metadata": {
  "kernelspec": {
   "display_name": "venv",
   "language": "python",
   "name": "venv"
  },
  "language_info": {
   "codemirror_mode": {
    "name": "ipython",
    "version": 3
   },
   "file_extension": ".py",
   "mimetype": "text/x-python",
   "name": "python",
   "nbconvert_exporter": "python",
   "pygments_lexer": "ipython3",
   "version": "3.6.8"
  },
  "varInspector": {
   "cols": {
    "lenName": 16,
    "lenType": 16,
    "lenVar": 40
   },
   "kernels_config": {
    "python": {
     "delete_cmd_postfix": "",
     "delete_cmd_prefix": "del ",
     "library": "var_list.py",
     "varRefreshCmd": "print(var_dic_list())"
    },
    "r": {
     "delete_cmd_postfix": ") ",
     "delete_cmd_prefix": "rm(",
     "library": "var_list.r",
     "varRefreshCmd": "cat(var_dic_list()) "
    }
   },
   "types_to_exclude": [
    "module",
    "function",
    "builtin_function_or_method",
    "instance",
    "_Feature"
   ],
   "window_display": false
  }
 },
 "nbformat": 4,
 "nbformat_minor": 4
}
